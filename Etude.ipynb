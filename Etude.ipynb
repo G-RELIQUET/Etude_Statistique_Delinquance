{
 "cells": [
  {
   "cell_type": "code",
   "execution_count": 160,
   "id": "cc45416b-825b-469f-a4bf-ad455eb552e5",
   "metadata": {},
   "outputs": [
    {
     "data": {
      "text/html": [
       "<div>\n",
       "<style scoped>\n",
       "    .dataframe tbody tr th:only-of-type {\n",
       "        vertical-align: middle;\n",
       "    }\n",
       "\n",
       "    .dataframe tbody tr th {\n",
       "        vertical-align: top;\n",
       "    }\n",
       "\n",
       "    .dataframe thead th {\n",
       "        text-align: right;\n",
       "    }\n",
       "</style>\n",
       "<table border=\"1\" class=\"dataframe\">\n",
       "  <thead>\n",
       "    <tr style=\"text-align: right;\">\n",
       "      <th></th>\n",
       "      <th>CODGEO_2024</th>\n",
       "      <th>annee</th>\n",
       "      <th>classe</th>\n",
       "      <th>unité.de.compte</th>\n",
       "      <th>valeur.publiée</th>\n",
       "      <th>faits</th>\n",
       "      <th>tauxpourmille</th>\n",
       "      <th>complementinfoval</th>\n",
       "      <th>complementinfotaux</th>\n",
       "      <th>POP</th>\n",
       "      <th>millPOP</th>\n",
       "      <th>LOG</th>\n",
       "      <th>millLOG</th>\n",
       "    </tr>\n",
       "  </thead>\n",
       "  <tbody>\n",
       "    <tr>\n",
       "      <th>0</th>\n",
       "      <td>01001</td>\n",
       "      <td>16</td>\n",
       "      <td>Coups et blessures volontaires</td>\n",
       "      <td>victime</td>\n",
       "      <td>ndiff</td>\n",
       "      <td>NaN</td>\n",
       "      <td>NaN</td>\n",
       "      <td>1.698925</td>\n",
       "      <td>1.498563</td>\n",
       "      <td>767</td>\n",
       "      <td>16</td>\n",
       "      <td>348.0</td>\n",
       "      <td>16</td>\n",
       "    </tr>\n",
       "    <tr>\n",
       "      <th>1</th>\n",
       "      <td>01001</td>\n",
       "      <td>16</td>\n",
       "      <td>Coups et blessures volontaires intrafamiliaux</td>\n",
       "      <td>victime</td>\n",
       "      <td>diff</td>\n",
       "      <td>0.0</td>\n",
       "      <td>0.0</td>\n",
       "      <td>NaN</td>\n",
       "      <td>NaN</td>\n",
       "      <td>767</td>\n",
       "      <td>16</td>\n",
       "      <td>348.0</td>\n",
       "      <td>16</td>\n",
       "    </tr>\n",
       "  </tbody>\n",
       "</table>\n",
       "</div>"
      ],
      "text/plain": [
       "  CODGEO_2024  annee                                         classe  \\\n",
       "0       01001     16                 Coups et blessures volontaires   \n",
       "1       01001     16  Coups et blessures volontaires intrafamiliaux   \n",
       "\n",
       "  unité.de.compte valeur.publiée  faits  tauxpourmille  complementinfoval  \\\n",
       "0         victime          ndiff    NaN            NaN           1.698925   \n",
       "1         victime           diff    0.0            0.0                NaN   \n",
       "\n",
       "   complementinfotaux  POP  millPOP    LOG  millLOG  \n",
       "0            1.498563  767       16  348.0       16  \n",
       "1                 NaN  767       16  348.0       16  "
      ]
     },
     "execution_count": 160,
     "metadata": {},
     "output_type": "execute_result"
    }
   ],
   "source": [
    "import pandas as pd\n",
    "import numpy as np\n",
    "%matplotlib inline\n",
    "import matplotlib.pyplot as plt\n",
    "\n",
    "\n",
    "commune=pd.read_parquet('donnee-comm-data.gouv-parquet-2023-geographie2024-produit-le2024-07-05.parquet')\n",
    "dep=pd.read_csv('donnee-dep-data.gouv-2023-geographie2024-produit-le2024-07-05.csv',sep=';')\n",
    "reg=pd.read_csv('donnee-reg-data.gouv-2023-geographie2024-produit-le2024-07-05.csv',sep=';')\n",
    "commune.head(2)"
   ]
  },
  {
   "cell_type": "markdown",
   "id": "e6e91411",
   "metadata": {},
   "source": [
    "# I) Nettoyage des données dans les différents DataFrames\n",
    "## A) Vérification de la cohérence et de l'uniformité des données\n",
    "### 1) Vérification de la cohérence\n",
    "Tout d'abord, il convient de vérifier que chaque variable est au bon type. L'objectif est d'avoir une uniformité des types de valeurs entre les 3 DataFrames commune, dep et reg. \n",
    "A noter que les dates seront traitées séparément car elles font l'objet d'une traitement particulier\n"
   ]
  },
  {
   "cell_type": "code",
   "execution_count": 161,
   "id": "c5628234",
   "metadata": {},
   "outputs": [
    {
     "name": "stdout",
     "output_type": "stream",
     "text": [
      "<class 'pandas.core.frame.DataFrame'>\n",
      "RangeIndex: 3917760 entries, 0 to 3917759\n",
      "Data columns (total 13 columns):\n",
      " #   Column              Dtype  \n",
      "---  ------              -----  \n",
      " 0   CODGEO_2024         object \n",
      " 1   annee               int32  \n",
      " 2   classe              object \n",
      " 3   unité.de.compte     object \n",
      " 4   valeur.publiée      object \n",
      " 5   faits               float64\n",
      " 6   tauxpourmille       float64\n",
      " 7   complementinfoval   float64\n",
      " 8   complementinfotaux  float64\n",
      " 9   POP                 int32  \n",
      " 10  millPOP             int32  \n",
      " 11  LOG                 float64\n",
      " 12  millLOG             int32  \n",
      "dtypes: float64(5), int32(4), object(4)\n",
      "memory usage: 328.8+ MB\n",
      "<class 'pandas.core.frame.DataFrame'>\n",
      "RangeIndex: 12928 entries, 0 to 12927\n",
      "Data columns (total 11 columns):\n",
      " #   Column            Non-Null Count  Dtype \n",
      "---  ------            --------------  ----- \n",
      " 0   classe            12928 non-null  object\n",
      " 1   annee             12928 non-null  int64 \n",
      " 2   Code.département  12928 non-null  object\n",
      " 3   Code.région       12928 non-null  int64 \n",
      " 4   unité.de.compte   12928 non-null  object\n",
      " 5   millPOP           12928 non-null  int64 \n",
      " 6   millLOG           12928 non-null  int64 \n",
      " 7   faits             12928 non-null  int64 \n",
      " 8   POP               12928 non-null  int64 \n",
      " 9   LOG               12928 non-null  object\n",
      " 10  tauxpourmille     12928 non-null  object\n",
      "dtypes: int64(6), object(5)\n",
      "memory usage: 1.1+ MB\n",
      "<class 'pandas.core.frame.DataFrame'>\n",
      "RangeIndex: 2304 entries, 0 to 2303\n",
      "Data columns (total 10 columns):\n",
      " #   Column           Non-Null Count  Dtype \n",
      "---  ------           --------------  ----- \n",
      " 0   classe           2304 non-null   object\n",
      " 1   annee            2304 non-null   int64 \n",
      " 2   Code.région      2304 non-null   int64 \n",
      " 3   unité.de.compte  2304 non-null   object\n",
      " 4   millPOP          2304 non-null   int64 \n",
      " 5   millLOG          2304 non-null   int64 \n",
      " 6   faits            2304 non-null   int64 \n",
      " 7   POP              2304 non-null   int64 \n",
      " 8   LOG              2304 non-null   object\n",
      " 9   tauxpourmille    2304 non-null   object\n",
      "dtypes: int64(6), object(4)\n",
      "memory usage: 180.1+ KB\n"
     ]
    }
   ],
   "source": [
    "## DataFrame commune\n",
    "#les colonnes classe et unité.de.compte doivent être au format object\n",
    "commune['classe']=commune['classe'].astype('str')\n",
    "commune['unité.de.compte']=commune['unité.de.compte'].astype('str')\n",
    "commune.info()\n",
    "## DataFrame dep\n",
    "dep.info()\n",
    "## DataFrame reg\n",
    "reg.info()"
   ]
  },
  {
   "cell_type": "markdown",
   "id": "68351fdc",
   "metadata": {},
   "source": [
    "### 2) Vérification de l'uniformité des données\n",
    "Il convient de vérifier que les données sont uniformes, c'est à dire qu'elles doivent être écrites toujours de la même manière en respectant une règle unique\n",
    "#### a) Données quantitatives"
   ]
  },
  {
   "cell_type": "code",
   "execution_count": 162,
   "id": "0f13ac01",
   "metadata": {},
   "outputs": [
    {
     "data": {
      "text/html": [
       "<div>\n",
       "<style scoped>\n",
       "    .dataframe tbody tr th:only-of-type {\n",
       "        vertical-align: middle;\n",
       "    }\n",
       "\n",
       "    .dataframe tbody tr th {\n",
       "        vertical-align: top;\n",
       "    }\n",
       "\n",
       "    .dataframe thead th {\n",
       "        text-align: right;\n",
       "    }\n",
       "</style>\n",
       "<table border=\"1\" class=\"dataframe\">\n",
       "  <thead>\n",
       "    <tr style=\"text-align: right;\">\n",
       "      <th></th>\n",
       "      <th>classe</th>\n",
       "      <th>annee</th>\n",
       "      <th>Code.région</th>\n",
       "      <th>unité.de.compte</th>\n",
       "      <th>millPOP</th>\n",
       "      <th>millLOG</th>\n",
       "      <th>faits</th>\n",
       "      <th>POP</th>\n",
       "      <th>LOG</th>\n",
       "      <th>tauxpourmille</th>\n",
       "    </tr>\n",
       "  </thead>\n",
       "  <tbody>\n",
       "    <tr>\n",
       "      <th>0</th>\n",
       "      <td>Homicides</td>\n",
       "      <td>16</td>\n",
       "      <td>1</td>\n",
       "      <td>victime</td>\n",
       "      <td>16</td>\n",
       "      <td>16</td>\n",
       "      <td>32</td>\n",
       "      <td>394110</td>\n",
       "      <td>226105,0475677566</td>\n",
       "      <td>0,08119560528786381</td>\n",
       "    </tr>\n",
       "  </tbody>\n",
       "</table>\n",
       "</div>"
      ],
      "text/plain": [
       "      classe  annee  Code.région unité.de.compte  millPOP  millLOG  faits  \\\n",
       "0  Homicides     16            1         victime       16       16     32   \n",
       "\n",
       "      POP                LOG        tauxpourmille  \n",
       "0  394110  226105,0475677566  0,08119560528786381  "
      ]
     },
     "execution_count": 162,
     "metadata": {},
     "output_type": "execute_result"
    }
   ],
   "source": [
    "reg.head(1)"
   ]
  },
  {
   "cell_type": "code",
   "execution_count": 163,
   "id": "eec449c4",
   "metadata": {},
   "outputs": [
    {
     "data": {
      "text/plain": [
       "array([ 1,  2,  3,  4,  6, 11, 24, 27, 28, 32, 44, 52, 53, 75, 76, 84, 93,\n",
       "       94], dtype=int64)"
      ]
     },
     "execution_count": 163,
     "metadata": {},
     "output_type": "execute_result"
    }
   ],
   "source": [
    "## DataFrame commune\n",
    "commune['annee'].unique() #Toutes les années sont écrites au même format\n",
    "commune['classe'].unique() #Toutes les classes sont écrites au même format et il n'y en a pas deux identiques écrites différemment \n",
    "commune['unité.de.compte'].unique() #Ici victime et victime entendue correspondent a la même unité de compte. Il faut donc modifier cela \n",
    "commune['unité.de.compte']=commune['unité.de.compte'].replace('victime entendue','victime')\n",
    "commune['valeur.publiée'].unique() #Toutes les valeurs publiées sont écrites au même format \n",
    "\n",
    "## DataFrame dep\n",
    "dep['annee'].unique() #Toutes les années sont écrites au même format\n",
    "dep['classe'].unique() #Toutes les années sont écrites au même format\n",
    "dep['Code.département'].unique() #Tous les départements sont écrits au même format sans erreur de doublon. A noter qu'il est normal que la valeur \"20\" soit manquante puisqu'il s'agit de la corse, dont le code a été remplacé en 1976 par 2A et 2B\n",
    "dep['unité.de.compte'].unique() #Ici victime et victime entendue correspondent a la même unité de compte. Il faut donc modifier cela \n",
    "dep['unité.de.compte']=dep['unité.de.compte'].replace('victime entendue','victime')\n",
    "\n",
    "## DataFrame reg\n",
    "reg['annee'].unique() #Toutes les années sont écrites au même format\n",
    "reg['classe'].unique() #Toutes les années sont écrites au même format\n",
    "reg['Code.région'].unique() #Toutes les régions sont présentes et sont écrites au même format "
   ]
  },
  {
   "cell_type": "markdown",
   "id": "8d429370",
   "metadata": {},
   "source": [
    "#### b) Dates\n",
    "L'étude des formats a démontré que les dates (ici \"annee\") sont au format int, ce qui est incorrect. Pour la suite de l'analyse, ces variables doivent être au format datetime64. "
   ]
  },
  {
   "cell_type": "code",
   "execution_count": 165,
   "id": "039f2e2f",
   "metadata": {},
   "outputs": [
    {
     "data": {
      "text/html": [
       "<div>\n",
       "<style scoped>\n",
       "    .dataframe tbody tr th:only-of-type {\n",
       "        vertical-align: middle;\n",
       "    }\n",
       "\n",
       "    .dataframe tbody tr th {\n",
       "        vertical-align: top;\n",
       "    }\n",
       "\n",
       "    .dataframe thead th {\n",
       "        text-align: right;\n",
       "    }\n",
       "</style>\n",
       "<table border=\"1\" class=\"dataframe\">\n",
       "  <thead>\n",
       "    <tr style=\"text-align: right;\">\n",
       "      <th></th>\n",
       "      <th>classe</th>\n",
       "      <th>annee</th>\n",
       "      <th>Code.région</th>\n",
       "      <th>unité.de.compte</th>\n",
       "      <th>millPOP</th>\n",
       "      <th>millLOG</th>\n",
       "      <th>faits</th>\n",
       "      <th>POP</th>\n",
       "      <th>LOG</th>\n",
       "      <th>tauxpourmille</th>\n",
       "    </tr>\n",
       "  </thead>\n",
       "  <tbody>\n",
       "    <tr>\n",
       "      <th>0</th>\n",
       "      <td>Homicides</td>\n",
       "      <td>2016-01-01</td>\n",
       "      <td>1</td>\n",
       "      <td>victime</td>\n",
       "      <td>16</td>\n",
       "      <td>16</td>\n",
       "      <td>32</td>\n",
       "      <td>394110</td>\n",
       "      <td>226105,0475677566</td>\n",
       "      <td>0,08119560528786381</td>\n",
       "    </tr>\n",
       "  </tbody>\n",
       "</table>\n",
       "</div>"
      ],
      "text/plain": [
       "      classe      annee  Code.région unité.de.compte  millPOP  millLOG  faits  \\\n",
       "0  Homicides 2016-01-01            1         victime       16       16     32   \n",
       "\n",
       "      POP                LOG        tauxpourmille  \n",
       "0  394110  226105,0475677566  0,08119560528786381  "
      ]
     },
     "execution_count": 165,
     "metadata": {},
     "output_type": "execute_result"
    }
   ],
   "source": [
    "commune['annee'] = pd.to_datetime(commune['annee'].apply(lambda x: f\"20{x:02d}\"))\n",
    "dep['annee'] = pd.to_datetime(dep['annee'].apply(lambda x: f\"20{x:02d}\"))\n",
    "reg['annee'] = pd.to_datetime(reg['annee'].apply(lambda x: f\"20{x:02d}\"))"
   ]
  },
  {
   "cell_type": "markdown",
   "id": "a817e5c3",
   "metadata": {},
   "source": [
    "## B) Vérifications des doublons"
   ]
  },
  {
   "cell_type": "code",
   "execution_count": 166,
   "id": "5fd9f2e8-95a2-49b3-9c2c-dc80e429bb8d",
   "metadata": {},
   "outputs": [
    {
     "name": "stdout",
     "output_type": "stream",
     "text": [
      "Il y a 0 doublons dans le df commune\n",
      "Il y a 0 doublons dans le df dep\n",
      "Il y a 0 doublons dans le df reg\n"
     ]
    }
   ],
   "source": [
    "# Recherche de doublons \n",
    "print('Il y a',commune.duplicated().sum(),'doublons dans le df commune')\n",
    "print('Il y a',dep.duplicated().sum(),'doublons dans le df dep')\n",
    "print('Il y a',reg.duplicated().sum(),'doublons dans le df reg')"
   ]
  },
  {
   "cell_type": "markdown",
   "id": "87ce2818",
   "metadata": {},
   "source": [
    "## C) Vérification des valeurs manquantes\n",
    "### 1) Analyse globale"
   ]
  },
  {
   "cell_type": "code",
   "execution_count": 167,
   "id": "cb1bf059-0a08-4b08-badb-0abb1d476e3f",
   "metadata": {},
   "outputs": [
    {
     "name": "stdout",
     "output_type": "stream",
     "text": [
      "Il y a 0 colonnes contenant des valeurs manquantes dans le df departement\n"
     ]
    }
   ],
   "source": [
    "# Recherche de valeurs manquantes du df departement \n",
    "print('Il y a',dep.isna().any(axis = 0).sum(),'colonnes contenant des valeurs manquantes dans le df departement')\n",
    "# Recherche de valeurs manquantes sur les lignes du df département\n",
    "#dep.isna().any(axis = 1).sum() Inutile donc "
   ]
  },
  {
   "cell_type": "code",
   "execution_count": 168,
   "id": "fae11c7f",
   "metadata": {},
   "outputs": [
    {
     "name": "stdout",
     "output_type": "stream",
     "text": [
      "Il y a 0 colonnes contenant des valeurs manquantes dans le df reg\n"
     ]
    }
   ],
   "source": [
    "# Recherche de valeurs manquantes du df région\n",
    "print('Il y a',reg.isna().any(axis = 0).sum(),'colonnes contenant des valeurs manquantes dans le df reg')\n",
    "# Recherche de valeurs manquantes sur les lignes du df régions\n",
    "#reg.isna().any(axis = 1).sum() Inutile donc "
   ]
  },
  {
   "cell_type": "code",
   "execution_count": 169,
   "id": "edd6161a",
   "metadata": {},
   "outputs": [
    {
     "name": "stdout",
     "output_type": "stream",
     "text": [
      "Il y a 4 colonnes contenant des valeurs manquantes dans le df commune\n",
      "Il y a 3917760 lignes contenant des valeurs manquantes sur 3917760 lignes sur le df.\n",
      "Les colonnes concernées sont les colonnes faits, taux pour mille, complementinfoval, complementinfototaux\n"
     ]
    }
   ],
   "source": [
    "# Recherche de valeurs manquantes sur les colonnes du df commune\n",
    "print('Il y a',commune.isna().any(axis = 0).sum(),'colonnes contenant des valeurs manquantes dans le df commune') \n",
    "# Recherche de valeurs manquantes sur les lignes du df communes\n",
    "print('Il y a',commune.isna().any(axis = 1).sum(),'lignes contenant des valeurs manquantes sur',commune.shape[0],'lignes sur le df.')\n",
    "print('Les colonnes concernées sont les colonnes faits, taux pour mille, complementinfoval, complementinfototaux')"
   ]
  },
  {
   "cell_type": "markdown",
   "id": "ff67b915",
   "metadata": {},
   "source": [
    "### 2) Traitement des valeurs manquantes\n",
    "Le fichier des métadonnées du dataset indique que si la variable contenue dans la colonne \"valeur.publiée\" vaut ndiff, alors les variables contenues dans la colonne \"faits\" ne sera pas renseignée. De ce fait, il a été décidé de supprimer toutes les lignes donc la colonne \"valeur.publiée\" vaut ndiff. "
   ]
  },
  {
   "cell_type": "code",
   "execution_count": 170,
   "id": "46ea0501",
   "metadata": {},
   "outputs": [],
   "source": [
    "# L'idée sera ici de faire une condition : si la valeur de valeur.publiee vaut ndiff, alors on supprime la ligne\n"
   ]
  },
  {
   "cell_type": "markdown",
   "id": "a2a09d69",
   "metadata": {},
   "source": [
    "## D) Analyse de la distribution des variables\n",
    "Un des objectifs sous-jacents et de détecter la présence d'outliers\n"
   ]
  },
  {
   "cell_type": "code",
   "execution_count": null,
   "id": "7dc4d596",
   "metadata": {},
   "outputs": [],
   "source": []
  },
  {
   "cell_type": "code",
   "execution_count": null,
   "id": "f404816d",
   "metadata": {},
   "outputs": [],
   "source": []
  },
  {
   "cell_type": "code",
   "execution_count": null,
   "id": "1b28fb9e",
   "metadata": {},
   "outputs": [],
   "source": []
  }
 ],
 "metadata": {
  "kernelspec": {
   "display_name": "base",
   "language": "python",
   "name": "python3"
  },
  "language_info": {
   "codemirror_mode": {
    "name": "ipython",
    "version": 3
   },
   "file_extension": ".py",
   "mimetype": "text/x-python",
   "name": "python",
   "nbconvert_exporter": "python",
   "pygments_lexer": "ipython3",
   "version": "3.12.4"
  }
 },
 "nbformat": 4,
 "nbformat_minor": 5
}
