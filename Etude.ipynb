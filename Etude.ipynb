{
 "cells": [
  {
   "cell_type": "code",
   "execution_count": 356,
   "id": "cc45416b-825b-469f-a4bf-ad455eb552e5",
   "metadata": {},
   "outputs": [
    {
     "data": {
      "text/html": [
       "<div>\n",
       "<style scoped>\n",
       "    .dataframe tbody tr th:only-of-type {\n",
       "        vertical-align: middle;\n",
       "    }\n",
       "\n",
       "    .dataframe tbody tr th {\n",
       "        vertical-align: top;\n",
       "    }\n",
       "\n",
       "    .dataframe thead th {\n",
       "        text-align: right;\n",
       "    }\n",
       "</style>\n",
       "<table border=\"1\" class=\"dataframe\">\n",
       "  <thead>\n",
       "    <tr style=\"text-align: right;\">\n",
       "      <th></th>\n",
       "      <th>CODGEO_2024</th>\n",
       "      <th>annee</th>\n",
       "      <th>classe</th>\n",
       "      <th>unité.de.compte</th>\n",
       "      <th>valeur.publiée</th>\n",
       "      <th>faits</th>\n",
       "      <th>tauxpourmille</th>\n",
       "      <th>complementinfoval</th>\n",
       "      <th>complementinfotaux</th>\n",
       "      <th>POP</th>\n",
       "      <th>millPOP</th>\n",
       "      <th>LOG</th>\n",
       "      <th>millLOG</th>\n",
       "    </tr>\n",
       "  </thead>\n",
       "  <tbody>\n",
       "    <tr>\n",
       "      <th>3917759</th>\n",
       "      <td>97617</td>\n",
       "      <td>23</td>\n",
       "      <td>Usage de stupéfiants</td>\n",
       "      <td>Mis en cause</td>\n",
       "      <td>ndiff</td>\n",
       "      <td>NaN</td>\n",
       "      <td>NaN</td>\n",
       "      <td>7.5</td>\n",
       "      <td>0.673906</td>\n",
       "      <td>13934</td>\n",
       "      <td>17</td>\n",
       "      <td>3872.0</td>\n",
       "      <td>17</td>\n",
       "    </tr>\n",
       "  </tbody>\n",
       "</table>\n",
       "</div>"
      ],
      "text/plain": [
       "        CODGEO_2024  annee                classe unité.de.compte  \\\n",
       "3917759       97617     23  Usage de stupéfiants    Mis en cause   \n",
       "\n",
       "        valeur.publiée  faits  tauxpourmille  complementinfoval  \\\n",
       "3917759          ndiff    NaN            NaN                7.5   \n",
       "\n",
       "         complementinfotaux    POP  millPOP     LOG  millLOG  \n",
       "3917759            0.673906  13934       17  3872.0       17  "
      ]
     },
     "execution_count": 356,
     "metadata": {},
     "output_type": "execute_result"
    }
   ],
   "source": [
    "import pandas as pd\n",
    "import numpy as np\n",
    "%matplotlib inline\n",
    "import matplotlib.pyplot as plt\n",
    "\n",
    "\n",
    "commune=pd.read_parquet('donnee-comm-data.gouv-parquet-2023-geographie2024-produit-le2024-07-05.parquet')\n",
    "dep=pd.read_csv('donnee-dep-data.gouv-2023-geographie2024-produit-le2024-07-05.csv',sep=';')\n",
    "reg=pd.read_csv('donnee-reg-data.gouv-2023-geographie2024-produit-le2024-07-05.csv',sep=';')\n",
    "commune.tail(1)"
   ]
  },
  {
   "cell_type": "code",
   "execution_count": 358,
   "id": "5fd9f2e8-95a2-49b3-9c2c-dc80e429bb8d",
   "metadata": {},
   "outputs": [
    {
     "name": "stdout",
     "output_type": "stream",
     "text": [
      "Il n'y a aucun doublon dans les 3 bases de données\n"
     ]
    }
   ],
   "source": [
    "#Recherche de doublons \n",
    "commune.duplicated().sum()\n",
    "dep.duplicated().sum()\n",
    "reg.duplicated().sum()\n",
    "print(\"Il n'y a aucun doublon dans les 3 bases de données\")"
   ]
  },
  {
   "cell_type": "code",
   "execution_count": 372,
   "id": "cb1bf059-0a08-4b08-badb-0abb1d476e3f",
   "metadata": {},
   "outputs": [
    {
     "data": {
      "text/plain": [
       "CODGEO_2024           False\n",
       "annee                 False\n",
       "classe                False\n",
       "unité.de.compte       False\n",
       "valeur.publiée        False\n",
       "faits                  True\n",
       "tauxpourmille          True\n",
       "complementinfoval      True\n",
       "complementinfotaux     True\n",
       "POP                   False\n",
       "millPOP               False\n",
       "LOG                   False\n",
       "millLOG               False\n",
       "dtype: bool"
      ]
     },
     "execution_count": 372,
     "metadata": {},
     "output_type": "execute_result"
    }
   ],
   "source": [
    "#Recherche de valeurs manquantes sur les colonnes \n",
    "dep.isna().any(axis = 0) # Aucune valeur manquante\n",
    "reg.isna().any(axis = 0) # Aucune valeur manquante\n",
    "commune.isna().any(axis = 0) # Valeur manquantes dans les colonnes faits, taux pour mille, complementinfoval, complementinfototaux"
   ]
  },
  {
   "cell_type": "code",
   "execution_count": 362,
   "id": "be8f6820-e592-49ca-804b-5145f8c133bc",
   "metadata": {},
   "outputs": [
    {
     "data": {
      "text/plain": [
       "3917760"
      ]
     },
     "execution_count": 362,
     "metadata": {},
     "output_type": "execute_result"
    }
   ],
   "source": [
    "#Recherche de valeurs manquantes sur les lignes \n",
    "dep.isna().any(axis = 1).sum() #Aucune valeur manquante\n",
    "reg.isna().any(axis = 1).sum() #Aucune valeur manquante\n",
    "commune.isna().any(axis = 1).sum() #3917760 sur 3917760 = chaque ligne comporte au moins une valeur manquante"
   ]
  },
  {
   "cell_type": "code",
   "execution_count": 370,
   "id": "cd4aa554-bc96-4ed4-a878-e774b7ce0764",
   "metadata": {},
   "outputs": [
    {
     "data": {
      "image/png": "[encoded data removed]",
      "text/plain": [
       "<Figure size 640x480 with 1 Axes>"
      ]
     },
     "metadata": {},
     "output_type": "display_data"
    }
   ],
   "source": [
    "#Je me demande combien il y a eu d'homicide à Lille 59350 sur 2023 \n",
    "commune['classe'] = commune['classe'].astype('str') #Changement de type\n",
    "commune['unité.de.compte'] = commune['unité.de.compte'].astype('str')\n",
    "commune[\"unité.de.compte\"].unique()\n",
    "com2=commune.loc[(commune[\"classe\"]==\"Vols avec armes\") & (commune[\"CODGEO_2024\"]== \"59350\")]\n",
    "com2.head(8).plot.bar(x = \"annee\",y=[\"faits\"])\n",
    "plt.title(\"Vols avec arme à Lille en fonction des années\");\n",
    "\n"
   ]
  },
  {
   "cell_type": "code",
   "execution_count": null,
   "id": "5bfd1150-38c5-4f2a-9e0c-681df513b81c",
   "metadata": {},
   "outputs": [],
   "source": []
  }
 ],
 "metadata": {
  "kernelspec": {
   "display_name": "Python 3 (ipykernel)",
   "language": "python",
   "name": "python3"
  },
  "language_info": {
   "codemirror_mode": {
    "name": "ipython",
    "version": 3
   },
   "file_extension": ".py",
   "mimetype": "text/x-python",
   "name": "python",
   "nbconvert_exporter": "python",
   "pygments_lexer": "ipython3",
   "version": "3.11.7"
  }
 },
 "nbformat": 4,
 "nbformat_minor": 5
}
